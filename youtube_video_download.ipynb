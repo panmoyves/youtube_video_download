{
 "cells": [
  {
   "cell_type": "code",
   "execution_count": 9,
   "id": "c2694ee7-cc04-428a-a338-da6207482cda",
   "metadata": {},
   "outputs": [
    {
     "name": "stdout",
     "output_type": "stream",
     "text": [
      "Enter URL of Video:  https://www.youtube.com/watch?v=frfcfk1S9BQ&list=RDfrfcfk1S9BQ&start_radio=1\n"
     ]
    },
    {
     "name": "stdout",
     "output_type": "stream",
     "text": [
      "MoviePy - Writing audio in Oganigwe.mp3\n"
     ]
    },
    {
     "name": "stderr",
     "output_type": "stream",
     "text": [
      "                                                                                                                       "
     ]
    },
    {
     "name": "stdout",
     "output_type": "stream",
     "text": [
      "MoviePy - Done.\n",
      "Original MP4 file saved as Oganigwe.mp4\n",
      "Conversion complete! MP3 file saved as  Oganigwe.mp3\n"
     ]
    },
    {
     "name": "stderr",
     "output_type": "stream",
     "text": [
      "\r"
     ]
    }
   ],
   "source": [
    "# Firtly, execute this command \n",
    "#pip install pytube\n",
    "#pip install pytube moviepy\n",
    "\n",
    "import os\n",
    "from pytube import YouTube\n",
    "from moviepy.editor import *\n",
    "\n",
    "# Getting the URL\n",
    "link = input(\"Enter URL of Video: \")\n",
    "\n",
    "# Downloading the video\n",
    "video = YouTube(link)\n",
    "stream = video.streams.get_highest_resolution()\n",
    "stream.download()\n",
    "\n",
    "# Converting the format\n",
    "video_path = stream.default_filename\n",
    "output_directory = os.path.dirname(video_path)\n",
    "mp4_file = os.path.join(output_directory, video_path)\n",
    "mp3_file = os.path.join(output_directory, video_path.replace('.mp4', '.mp3'))\n",
    "\n",
    "videoclip = VideoFileClip(mp4_file)\n",
    "audioclip = videoclip.audio\n",
    "audioclip.write_audiofile(mp3_file)\n",
    "\n",
    "\n",
    "audioclip.close()\n",
    "videoclip.close()\n",
    "\n",
    "print(\"Original MP4 file saved as\", mp4_file)\n",
    "print(\"Conversion complete! MP3 file saved as \", mp3_file)\n",
    "\n"
   ]
  },
  {
   "cell_type": "code",
   "execution_count": null,
   "id": "4c048859-f61d-4c14-ad55-0cf2ed498a3f",
   "metadata": {},
   "outputs": [],
   "source": []
  }
 ],
 "metadata": {
  "kernelspec": {
   "display_name": "Python 3 (ipykernel)",
   "language": "python",
   "name": "python3"
  },
  "language_info": {
   "codemirror_mode": {
    "name": "ipython",
    "version": 3
   },
   "file_extension": ".py",
   "mimetype": "text/x-python",
   "name": "python",
   "nbconvert_exporter": "python",
   "pygments_lexer": "ipython3",
   "version": "3.10.2"
  }
 },
 "nbformat": 4,
 "nbformat_minor": 5
}
